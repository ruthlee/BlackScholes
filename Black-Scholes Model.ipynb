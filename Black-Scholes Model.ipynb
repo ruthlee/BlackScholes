{
 "cells": [
  {
   "cell_type": "code",
   "execution_count": 1,
   "metadata": {
    "collapsed": true
   },
   "outputs": [],
   "source": [
    "import numpy as np"
   ]
  },
  {
   "cell_type": "markdown",
   "metadata": {},
   "source": [
    "# Implementing Black-Scholes Formula in Python\n",
    "\n",
    "This notebook aims to implement the Black-Scholes options pricing model for a European call option using historical stock price and volatility data. "
   ]
  },
  {
   "cell_type": "markdown",
   "metadata": {},
   "source": [
    "**Assumptions** \n",
    "The model assumes the following: \n",
    "1. The underlying follows a Normal distribution/ Brownian motion\n",
    "1. There are no arbitrage opportunities in the market\n",
    "1. The risk-free interest rate is known and constant\n",
    "1. (There are more)\n",
    "\n",
    "**Equation**\n",
    "We have the following parameters in the following equations:\n",
    "$$\n",
    "\\begin{aligned}\n",
    "S(t) &= \\text{Price of underlying asset at time t} \\\\ \n",
    "V(S, t) &= \\text{Price of option given the price of the underlying at time t} \\\\\n",
    "K &= \\text{Strike price of option} \\\\\n",
    "\\sigma &= \\text{Volatility} \\\\\n",
    "r &= \\text{Risk-free interest rate} \\\\\n",
    "\\Phi(d) &= \\text{CDF of a normally distributed variable} = \\frac{1}{\\sqrt{2\\pi}} \\int^d_{-\\infty}e^{\\frac{-y^2}{2}}dy\n",
    "\\end{aligned}\n",
    "$$\n",
    "The Black Scholes model is a partial differential equation that, given the proper change of variables, can be reduced to the heat equation and solved. The partial differential equation for a European call option is: \n",
    "$$\n",
    "\\frac{\\delta V}{\\delta t} + \\frac{1}{2}\\sigma^2S^2\\frac{\\delta^2 V}{\\delta S^2} + rS\\frac{\\delta V}{\\delta S}-rV = 0\n",
    "$$\n",
    "The full solution for a European call option is: \n",
    "$$\n",
    "\n",
    "$$"
   ]
  },
  {
   "cell_type": "code",
   "execution_count": null,
   "metadata": {
    "collapsed": true
   },
   "outputs": [],
   "source": []
  }
 ],
 "metadata": {
  "kernelspec": {
   "display_name": "Python 3",
   "language": "python",
   "name": "python3"
  },
  "language_info": {
   "codemirror_mode": {
    "name": "ipython",
    "version": 3
   },
   "file_extension": ".py",
   "mimetype": "text/x-python",
   "name": "python",
   "nbconvert_exporter": "python",
   "pygments_lexer": "ipython3",
   "version": "3.6.3"
  }
 },
 "nbformat": 4,
 "nbformat_minor": 2
}
